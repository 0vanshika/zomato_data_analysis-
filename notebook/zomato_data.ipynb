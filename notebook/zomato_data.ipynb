{
 "cells": [
  {
   "cell_type": "markdown",
   "id": "263064e9",
   "metadata": {},
   "source": [
    "# 📓 Zomato Dataset Cleaning and Preprocessing"
   ]
  },
  {
   "cell_type": "code",
   "execution_count": null,
   "id": "f68c7a8e",
   "metadata": {},
   "outputs": [],
   "source": [
    "import pandas as pd\n",
    "import numpy as np"
   ]
  },
  {
   "cell_type": "markdown",
   "id": "b5e10caf",
   "metadata": {},
   "source": [
    "## 🔽 Step 1: Load the Dataset"
   ]
  },
  {
   "cell_type": "code",
   "execution_count": null,
   "id": "2940f559",
   "metadata": {},
   "outputs": [],
   "source": [
    "df = pd.read_csv(\"zomato.csv\")\n",
    "df.head()"
   ]
  },
  {
   "cell_type": "markdown",
   "id": "38fcc698",
   "metadata": {},
   "source": [
    "## 🧹 Step 2: Drop Unnecessary Columns"
   ]
  },
  {
   "cell_type": "code",
   "execution_count": null,
   "id": "b8c574a9",
   "metadata": {},
   "outputs": [],
   "source": [
    "columns_to_drop = ['url', 'phone', 'rest_type', 'dish_liked', 'reviews_list', 'menu_item', 'listed_in(city)']\n",
    "df_cleaned = df.drop(columns=columns_to_drop)\n",
    "df_cleaned.head()"
   ]
  },
  {
   "cell_type": "markdown",
   "id": "f9916768",
   "metadata": {},
   "source": [
    "## 🏷️ Step 3: Rename Columns for Better Readability"
   ]
  },
  {
   "cell_type": "code",
   "execution_count": null,
   "id": "409ea476",
   "metadata": {},
   "outputs": [],
   "source": [
    "df_cleaned = df_cleaned.rename(columns={\n",
    "    'approx_cost(for two people)': 'two_people_cost',\n",
    "    'listed_in(type)': 'type_of_restaurant',\n",
    "    'rate': 'rating'\n",
    "})\n",
    "df_cleaned.head()"
   ]
  },
  {
   "cell_type": "markdown",
   "id": "9990ecef",
   "metadata": {},
   "source": [
    "## ❌ Step 4: Drop Rows with Missing Key Information"
   ]
  },
  {
   "cell_type": "code",
   "execution_count": null,
   "id": "85b397b6",
   "metadata": {},
   "outputs": [],
   "source": [
    "df_cleaned = df_cleaned.dropna(subset=['location', 'cuisines', 'two_people_cost'])\n",
    "df_cleaned.info()"
   ]
  },
  {
   "cell_type": "markdown",
   "id": "83a63376",
   "metadata": {},
   "source": [
    "## 💰 Step 5: Clean and Convert Cost Column"
   ]
  },
  {
   "cell_type": "code",
   "execution_count": null,
   "id": "34cca016",
   "metadata": {},
   "outputs": [],
   "source": [
    "df_cleaned['two_people_cost'] = df_cleaned['two_people_cost'].str.replace(',', '')\n",
    "df_cleaned['two_people_cost'] = df_cleaned['two_people_cost'].astype(int)\n",
    "df_cleaned['cost_per_person'] = df_cleaned['two_people_cost'] / 2\n",
    "df_cleaned = df_cleaned.drop(columns=['two_people_cost'])\n",
    "df_cleaned.head()"
   ]
  },
  {
   "cell_type": "markdown",
   "id": "d1bab8e7",
   "metadata": {},
   "source": [
    "## 🌟 Step 6: Clean the Rating Column"
   ]
  },
  {
   "cell_type": "code",
   "execution_count": null,
   "id": "457c88db",
   "metadata": {},
   "outputs": [],
   "source": [
    "def handle_rating(value):\n",
    "    if value in ['NEW', '-']:\n",
    "        return np.nan\n",
    "    else:\n",
    "        return float(str(value).split('/')[0])\n",
    "\n",
    "df_cleaned['rating'] = df_cleaned['rating'].apply(handle_rating)\n",
    "df_cleaned['rating'] = df_cleaned['rating'].fillna(df_cleaned['rating'].mean())\n",
    "df_cleaned.head()"
   ]
  },
  {
   "cell_type": "markdown",
   "id": "a8428161",
   "metadata": {},
   "source": [
    "## 💾 Step 7: Save Cleaned Data"
   ]
  },
  {
   "cell_type": "code",
   "execution_count": null,
   "id": "a0ed2338",
   "metadata": {},
   "outputs": [],
   "source": [
    "df_cleaned.to_csv(\"zomato_data_analysis.csv\", index=False)"
   ]
  },
  {
   "cell_type": "markdown",
   "id": "7103ba67",
   "metadata": {},
   "source": [
    "## 📊 Step 8: Overview of Final Cleaned Data"
   ]
  },
  {
   "cell_type": "code",
   "execution_count": null,
   "id": "57012c6e",
   "metadata": {},
   "outputs": [],
   "source": [
    "df_cleaned.info()"
   ]
  }
 ],
 "metadata": {
  "kernelspec": {
   "display_name": "Python [conda env:base] *",
   "language": "python",
   "name": "conda-base-py"
  },
  "language_info": {
   "codemirror_mode": {
    "name": "ipython",
    "version": 3
   },
   "file_extension": ".py",
   "mimetype": "text/x-python",
   "name": "python",
   "nbconvert_exporter": "python",
   "pygments_lexer": "ipython3",
   "version": "3.13.5"
  }
 },
 "nbformat": 4,
 "nbformat_minor": 5
}
